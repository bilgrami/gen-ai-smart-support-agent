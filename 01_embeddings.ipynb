{
  "nbformat": 4,
  "nbformat_minor": 0,
  "metadata": {
    "colab": {
      "provenance": [],
      "authorship_tag": "ABX9TyNRUsb+F6fxv9FluUNvGTgo",
      "include_colab_link": true
    },
    "kernelspec": {
      "name": "python3",
      "display_name": "Python 3"
    },
    "language_info": {
      "name": "python"
    }
  },
  "cells": [
    {
      "cell_type": "markdown",
      "metadata": {
        "id": "view-in-github",
        "colab_type": "text"
      },
      "source": [
        "<a href=\"https://colab.research.google.com/github/bilgrami/gen-ai-smart-support-agent/blob/main/01_embeddings.ipynb\" target=\"_parent\"><img src=\"https://colab.research.google.com/assets/colab-badge.svg\" alt=\"Open In Colab\"/></a>"
      ]
    },
    {
      "cell_type": "code",
      "execution_count": null,
      "metadata": {
        "colab": {
          "base_uri": "https://localhost:8080/"
        },
        "id": "mfOcLksngL1G",
        "outputId": "e691a7ef-ebcc-4361-9417-c6ca480a8e62"
      },
      "outputs": [
        {
          "output_type": "stream",
          "name": "stdout",
          "text": [
            "Requirement already satisfied: gensim in /usr/local/lib/python3.10/dist-packages (4.3.2)\n",
            "Requirement already satisfied: numpy>=1.18.5 in /usr/local/lib/python3.10/dist-packages (from gensim) (1.25.2)\n",
            "Requirement already satisfied: scipy>=1.7.0 in /usr/local/lib/python3.10/dist-packages (from gensim) (1.11.4)\n",
            "Requirement already satisfied: smart-open>=1.8.1 in /usr/local/lib/python3.10/dist-packages (from gensim) (7.0.4)\n",
            "Requirement already satisfied: wrapt in /usr/local/lib/python3.10/dist-packages (from smart-open>=1.8.1->gensim) (1.14.1)\n",
            "[==================================================] 100.0% 66.0/66.0MB downloaded\n",
            "Embedding for the word 'tower' using model 'glove-wiki-gigaword-50':\n",
            "[ 1.1474e+00  1.1811e+00  7.4556e-01 -5.9101e-02  5.0499e-01 -7.0449e-01\n",
            " -3.2136e-01 -4.5390e-01 -4.5763e-01 -7.5341e-01 -3.3511e-01 -2.4975e-02\n",
            " -5.0192e-01  6.3773e-01 -8.3059e-01  8.3565e-01 -2.4701e-01  3.2421e-01\n",
            " -1.1103e+00 -2.1335e-02  6.8717e-01 -3.9340e-01 -1.6390e+00 -5.0493e-01\n",
            " -1.6684e-01 -6.7649e-01 -3.1798e-01  8.8503e-01 -3.1552e-02 -1.5608e-01\n",
            "  1.9805e+00 -1.1870e+00  8.3342e-01 -1.8369e-01 -2.6691e-01  1.1619e-01\n",
            "  1.1023e+00 -3.5937e-01  2.5015e-02 -4.0615e-02  3.0681e-01 -4.1076e-01\n",
            "  8.4586e-02  2.2475e-01 -5.0955e-01  6.5819e-01 -1.2432e-01 -1.4039e+00\n",
            "  1.6178e-04 -5.2529e-01]\n",
            "[==================================================] 100.0% 128.1/128.1MB downloaded\n"
          ]
        }
      ],
      "source": [
        "# Colab notebook for testing different word embeddings using Gensim\n",
        "\n",
        "# First, install the necessary libraries\n",
        "!pip install gensim\n",
        "\n",
        "# Import the gensim library\n",
        "import gensim.downloader\n",
        "\n",
        "# Function to load and test word embeddings\n",
        "def test_word_embeddings(model_name, word):\n",
        "    model = gensim.downloader.load(model_name)\n",
        "    print(f\"Embedding for the word '{word}' using model '{model_name}':\")\n",
        "    print(model[word])\n",
        "\n",
        "# List of different word embedding models to test\n",
        "models = [\n",
        "    \"glove-wiki-gigaword-50\",\n",
        "    \"glove-wiki-gigaword-100\",\n",
        "    \"glove-wiki-gigaword-200\",\n",
        "    \"glove-wiki-gigaword-300\",\n",
        "    \"word2vec-google-news-300\",\n",
        "    \"fasttext-wiki-news-subwords-300\"\n",
        "]\n",
        "\n",
        "# Word to test\n",
        "word_to_test = \"tower\"\n",
        "\n",
        "# Testing each model\n",
        "for model_name in models:\n",
        "    try:\n",
        "        test_word_embeddings(model_name, word_to_test)\n",
        "    except KeyError:\n",
        "        print(f\"The word '{word_to_test}' is not in the vocabulary of the model '{model_name}'\")\n"
      ]
    },
    {
      "cell_type": "code",
      "source": [],
      "metadata": {
        "id": "2VrbaPlmgUl-"
      },
      "execution_count": null,
      "outputs": []
    }
  ]
}